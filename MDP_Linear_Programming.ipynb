{
 "cells": [
  {
   "cell_type": "markdown",
   "metadata": {},
   "source": [
    "# Markov Decision Processes: Solution by Linear Programming"
   ]
  },
  {
   "cell_type": "markdown",
   "metadata": {},
   "source": [
    "\n",
    "Linear programming is an __exact__ solution method to a Markov decision process.  It produces the optimal __value function__ $V$, which can then be translated into the optimal policy.\n",
    "\n",
    "\n",
    "A Markov decision process is defined by:\n",
    "\n",
    "\n",
    "+ $S$ : a set of states \n",
    "+ $A$ : a set of actions \n",
    "+ $H$ : a finite time horizon $i=1, ..., H$ \n",
    "+ $T$ : $S \\times A \\times S \\times \\{1,...,H\\} \\rightarrow [0,1]$ a transition probability function $P(s_{t+1} = s' | s_t = s, a_t = a)$\n",
    "+ $R$ : $S \\times A \\times S \\times \\{1,...,H\\} \\rightarrow \\mathbb{R}$ a reward function $R(s,a,s')$\n",
    "\n",
    "+ $\\gamma$: a discount factor. \n",
    "\n",
    "The desired result is an optimal policy $\\pi^{*}: S \\times \\{0,...,H\\} \\rightarrow A$ which describes the optimal action $a^{*}$to be undertaken for each state $s$. \n",
    "\n",
    "Alternatively, to find $\\pi$ such that:\n",
    "\n",
    "$$ \\text{max}_{\\pi} E[\\sum_{t=0}^{H}\\gamma^{t} R(s_{t},a_t,s_{t+1})| \\pi]$$\n",
    "\n",
    "### Linear Programming\n",
    "\n",
    "\n",
    "\n",
    "The convex optimization problem becomes:\n",
    "\n",
    "\n",
    "\n",
    "$$\n",
    "\\begin{array}{lc}\n",
    "\\text{minimize} & \\sum_{S} V(s) \\\\\n",
    "\\text{subject to} & V(s) \\geq R(s) + \\gamma \\sum_{s'}T(s,a,s')V(s') \\text{ for all } a \\in A, s \\in S \\\\\n",
    "\\end{array}\n",
    "$$\n",
    "    \n",
    "   \n",
    "__NB__: Ref[3] was especially useful stating the LP problem. \n",
    "\n"
   ]
  },
  {
   "cell_type": "markdown",
   "metadata": {},
   "source": [
    "## Imports"
   ]
  },
  {
   "cell_type": "code",
   "execution_count": 1,
   "metadata": {},
   "outputs": [],
   "source": [
    "import pandas as pd\n",
    "import numpy as np\n",
    "import scipy as sp\n",
    "import matplotlib.pyplot as plt\n",
    "import datetime\n",
    "import os\n",
    "from dateutil import relativedelta\n",
    "\n",
    "from matplotlib import cm\n",
    "from mpl_toolkits.mplot3d import axes3d\n",
    "\n",
    "import scipy.stats as stats\n",
    "\n",
    "import cvxpy as cvx\n",
    "\n",
    "import warnings\n",
    "warnings.filterwarnings('ignore')"
   ]
  },
  {
   "cell_type": "markdown",
   "metadata": {},
   "source": [
    "## Data Transformation Functions"
   ]
  },
  {
   "cell_type": "code",
   "execution_count": 2,
   "metadata": {},
   "outputs": [],
   "source": [
    "def gridworld_to_T(gridworld,A):\n",
    "    # Returns the transition probability function\n",
    "    \n",
    "    # the set of actions (up, down, left, right)\n",
    "    # p_intended = P(s_t+1 = s' | a_t is towards s')\n",
    "    # p_unintended = uniform over all possible remaining target states \n",
    "    # nans are walls, boundaries are absolute\n",
    "    # actions into walls or boundaries will \"bounce\" into other states with uniform probability\n",
    "    \n",
    "    \n",
    "    \n",
    "    T = np.zeros(tuple(list(gridworld.shape) + [A.shape[0]] + list(gridworld.shape)) )\n",
    "    \n",
    "    p_intended = 0.8\n",
    "    \n",
    "    for idx in range(gridworld.shape[0]):\n",
    "        for jdx in range(gridworld.shape[1]):\n",
    "            \n",
    "            possible_actions = [True, True, True, True]\n",
    "            num_possible_actions = len(possible_actions)\n",
    "            \n",
    "            #check for walls here \n",
    "            if np.isnan(gridworld[idx][jdx]):\n",
    "                continue\n",
    "                \n",
    "            \n",
    "            #determine possible actions for position, taking into account sinks and boundaries \n",
    "            for adx,action in enumerate(A):\n",
    "                if not 0<=idx + action[0] < gridworld.shape[0]:\n",
    "                    possible_actions[adx] = False \n",
    "                    num_possible_actions-=1\n",
    "                    continue\n",
    "                if not 0<=jdx + action[1] < gridworld.shape[1]:\n",
    "                    possible_actions[adx] = False \n",
    "                    num_possible_actions-=1\n",
    "                    continue \n",
    "                if np.isnan(gridworld[idx+action[0]][jdx+action[1]]):\n",
    "                    possible_actions[adx] = False \n",
    "                    num_possible_actions-=1\n",
    "                    \n",
    "            #at this point we have the possible actions \n",
    "            #now we must determine if an intended action is possible\n",
    "            # and how to distribute the probabilities\n",
    "            \n",
    "            #outer loop is intended action\n",
    "            for adx,action in enumerate(A):\n",
    "                \n",
    "                #intended action is possible\n",
    "                if possible_actions[adx]:\n",
    "                    \n",
    "                    T[idx][jdx][adx][idx+action[0]][jdx+action[1]] = p_intended\n",
    "                    \n",
    "                    #fill in remaining actions\n",
    "                    for bdx,bction in enumerate(A):\n",
    "                        if bdx != adx and possible_actions[bdx]:\n",
    "                            T[idx][jdx][adx][idx+bction[0]][jdx+bction[1]] = \\\n",
    "                            (1.0-p_intended)/(num_possible_actions-1)\n",
    "                    \n",
    "                #intended action is not possible, uniform assignment to remaining actions\n",
    "                elif not possible_actions[adx]:\n",
    "                    #fill in remaining actions \n",
    "                    for bdx,bction in enumerate(A):\n",
    "                        if bdx != adx and possible_actions[bdx]:\n",
    "                            T[idx][jdx][adx][idx+bction[0]][jdx+bction[1]] = (1.0)/float((num_possible_actions))   \n",
    "         \n",
    "    \n",
    "                        \n",
    "    return T"
   ]
  },
  {
   "cell_type": "code",
   "execution_count": 3,
   "metadata": {},
   "outputs": [],
   "source": [
    "def gridworld_to_R(gridworld,A):\n",
    "    # Returns the reward function\n",
    "    \n",
    "    # the set of actions (up, down, left, right)\n",
    "    # rewards of target states are taken directly from the gridworld\n",
    "    # nans/walls remain as zero \n",
    "    # Returns the reward function\n",
    "      \n",
    "    \n",
    "    R = np.zeros(tuple(list(gridworld.shape) + [A.shape[0]] + list(gridworld.shape)) )\n",
    "        \n",
    "    \n",
    "    for idx in range(gridworld.shape[0]):\n",
    "        for jdx in range(gridworld.shape[1]):\n",
    "            \n",
    "            possible_actions = [True, True, True, True]\n",
    "            \n",
    "            #determine possible actions for position, taking into account walls and boundaries \n",
    "            for adx,action in enumerate(A):\n",
    "                if not 0<=idx + action[0] < gridworld.shape[0]:\n",
    "                    possible_actions[adx] = False \n",
    "                    continue\n",
    "                if not 0<=jdx + action[1] < gridworld.shape[1]:\n",
    "                    possible_actions[adx] = False \n",
    "                    continue \n",
    "                if np.isnan(gridworld[idx+action[0]][jdx+action[1]]):\n",
    "                    possible_actions[adx] = False \n",
    "                    \n",
    "            #at this point we have the possible actions \n",
    "            #now we must determine if an intended action is possible\n",
    "            # and assign the rewards\n",
    "            \n",
    "            #outer loop is intended action\n",
    "            for adx,action in enumerate(A):\n",
    "                \n",
    "                #intended action is possible\n",
    "                if possible_actions[adx]:\n",
    "                    R[idx][jdx][adx][idx+action[0]][jdx+action[1]] = gridworld[idx+action[0]][jdx+action[1]]\n",
    "       \n",
    "    return R\n",
    "    "
   ]
  },
  {
   "cell_type": "markdown",
   "metadata": {},
   "source": [
    "## Data"
   ]
  },
  {
   "cell_type": "code",
   "execution_count": 4,
   "metadata": {},
   "outputs": [],
   "source": [
    "gridworld = np.zeros((9,9))   #rewards are floats, walls/sinks are nans, boundaries are absolute\n",
    "gridworld[0][8] = 10 \n",
    "gridworld[8][8] = 10 \n",
    "gridworld[8][7] = -10\n",
    "gridworld[4][4] = np.nan\n",
    "\n",
    "\n",
    "#MDP data structures\n",
    "A = np.array([[-1,0],[1,0],[0,-1], [0,1]]) # the set of actions (up, down, left, right)\n",
    "T =  gridworld_to_T(gridworld,A)    # transition probablities T: SxAxS\n",
    "R =  gridworld_to_R(gridworld,A)    # rewards for each state R: SxAxS\n",
    "\n",
    "discount_factor = 0.9  # discount factor gamma\n",
    "\n"
   ]
  },
  {
   "cell_type": "markdown",
   "metadata": {},
   "source": [
    "## Gridworld \n",
    "\n",
    "`nans` are impassable. The boundaries of the gridworld behave like walls. "
   ]
  },
  {
   "cell_type": "code",
   "execution_count": 5,
   "metadata": {},
   "outputs": [
    {
     "data": {
      "text/plain": [
       "<matplotlib.colorbar.Colorbar at 0x7ff995e4d550>"
      ]
     },
     "execution_count": 5,
     "metadata": {},
     "output_type": "execute_result"
    },
    {
     "data": {
      "image/png": "[encoded data removed]",
      "text/plain": [
       "<Figure size 432x288 with 2 Axes>"
      ]
     },
     "metadata": {
      "needs_background": "light"
     },
     "output_type": "display_data"
    }
   ],
   "source": [
    "plt.imshow(gridworld, cmap=\"viridis\")\n",
    "plt.title(\"Gridworld\")\n",
    "plt.colorbar()"
   ]
  },
  {
   "cell_type": "markdown",
   "metadata": {},
   "source": [
    "###  Probe of Transition Probabilities "
   ]
  },
  {
   "cell_type": "code",
   "execution_count": 6,
   "metadata": {},
   "outputs": [
    {
     "data": {
      "text/plain": [
       "<matplotlib.colorbar.Colorbar at 0x7ff9961e9290>"
      ]
     },
     "execution_count": 6,
     "metadata": {},
     "output_type": "execute_result"
    },
    {
     "data": {
      "image/png": "[encoded data removed]",
      "text/plain": [
       "<Figure size 432x288 with 2 Axes>"
      ]
     },
     "metadata": {
      "needs_background": "light"
     },
     "output_type": "display_data"
    }
   ],
   "source": [
    "plt.imshow(T[4][5][2][:][:], cmap=\"viridis\")\n",
    "plt.title(\"Transitions probabilities for an example state-action tuple\")\n",
    "plt.colorbar()\n"
   ]
  },
  {
   "cell_type": "markdown",
   "metadata": {},
   "source": [
    "### Probe of Reward Function"
   ]
  },
  {
   "cell_type": "code",
   "execution_count": 7,
   "metadata": {},
   "outputs": [
    {
     "data": {
      "text/plain": [
       "<matplotlib.colorbar.Colorbar at 0x7ff9963cdc50>"
      ]
     },
     "execution_count": 7,
     "metadata": {},
     "output_type": "execute_result"
    },
    {
     "data": {
      "image/png": "[encoded data removed]",
      "text/plain": [
       "<Figure size 432x288 with 2 Axes>"
      ]
     },
     "metadata": {
      "needs_background": "light"
     },
     "output_type": "display_data"
    }
   ],
   "source": [
    "plt.imshow(R[8][7][3][:][:],cmap=\"viridis\")\n",
    "plt.title(\"Reward function for an example state-action tuple\")\n",
    "plt.colorbar()"
   ]
  },
  {
   "cell_type": "markdown",
   "metadata": {},
   "source": [
    "# Linear Program"
   ]
  },
  {
   "cell_type": "markdown",
   "metadata": {},
   "source": [
    "To solve the LP, the set of constraints must be built in the following functions."
   ]
  },
  {
   "cell_type": "code",
   "execution_count": 8,
   "metadata": {},
   "outputs": [],
   "source": [
    "def build_contraints(S,V,R,T,A,gamma):\n",
    "    constraints = [] \n",
    "    \n",
    "    for idx in range(S.shape[0]):\n",
    "        for jdx in range(S.shape[1]):\n",
    "            #get reward of current state\n",
    "            R_cur = S[idx][jdx]#R[idx][jdx][0][idx][jdx]\n",
    "            \n",
    "            if np.isnan(R_cur):\n",
    "                R_cur=0\n",
    "            \n",
    "            #sum up the discounted values of possible actions and target states\n",
    "            \n",
    "            #determine possible actions for position, taking into account walls and boundaries \n",
    "            possible_actions = [True, True, True, True]\n",
    "            for adx,action in enumerate(A):\n",
    "                if not 0<=idx + action[0] < gridworld.shape[0]:\n",
    "                    possible_actions[adx] = False \n",
    "                    continue\n",
    "                if not 0<=jdx + action[1] < gridworld.shape[1]:\n",
    "                    possible_actions[adx] = False \n",
    "                    continue \n",
    "                if np.isnan(gridworld[idx+action[0]][jdx+action[1]]):\n",
    "                    possible_actions[adx] = False \n",
    "                    \n",
    "            #at this point we have the possible actions \n",
    "            # for each action, sum up the discounted value across the target states to\n",
    "            # calculate the reward constraint\n",
    "            \n",
    "            #outer loop is intended action\n",
    "            for adx,action in enumerate(A):\n",
    "                \n",
    "                discounted_value = 0\n",
    "                \n",
    "                #intended action is possible\n",
    "                if possible_actions[adx]:\n",
    "                    \n",
    "                    discounted_value+=T[idx][jdx][adx][idx+action[0]][jdx+action[1]]*V[idx+action[0]][jdx+action[1]]\n",
    "                            \n",
    "                discounted_value*=gamma\n",
    "                                                                                                      \n",
    "                constraints+=[V[idx][jdx] >= R_cur + discounted_value]\n",
    "            \n",
    "    return constraints"
   ]
  },
  {
   "cell_type": "code",
   "execution_count": 9,
   "metadata": {},
   "outputs": [],
   "source": [
    "def value_to_policy(S,V,A,T,R,gamma):\n",
    "    \n",
    "    policy = np.zeros(S.shape)\n",
    "    \n",
    "    \n",
    "    #for all states, find the local optimal action\n",
    "    # and update the V and policy tensors\n",
    "    for idx in range(S.shape[0]):\n",
    "        for jdx in range(S.shape[1]):\n",
    "                \n",
    "            #initial optimal value and action for state\n",
    "            V_max = float(-np.inf)\n",
    "            A_max = 0\n",
    "                \n",
    "                \n",
    "            #iterate over actions\n",
    "            for adx,action in enumerate(A):\n",
    "                if idx+action[0] < 0 or idx+action[0] >= S.shape[0]:\n",
    "                    continue \n",
    "                if jdx+action[0] < 0 or jdx+action[1] >= S.shape[1]:\n",
    "                    continue \n",
    "                      \n",
    "                V_cur = 0\n",
    "                    \n",
    "                #iterate over target states accessible via the actions\n",
    "                # (including unintended states due to transition probabilities)\n",
    "                for bction in A:\n",
    "                    if idx+bction[0] < 0 or idx+bction[0] >= S.shape[0]:\n",
    "                        continue \n",
    "                    if jdx+bction[0] < 0 or jdx+bction[1] >= S.shape[1]:\n",
    "                        continue \n",
    "                    V_cur += (T[idx][jdx][adx][idx+bction[0]][jdx + bction[1]])*\\\n",
    "                            (R[idx][jdx][adx][idx+bction[0]][jdx + bction[1]] + \\\n",
    "                             gamma*V[idx+bction[0]][jdx + bction[1]]) \n",
    "                       \n",
    "                #check for optimal value and action\n",
    "                if V_cur >= V_max:\n",
    "                    V_max = V_cur\n",
    "                    A_max = adx\n",
    "                        \n",
    "             \n",
    "            policy[idx][jdx] = A_max\n",
    "            \n",
    "    return policy"
   ]
  },
  {
   "cell_type": "markdown",
   "metadata": {},
   "source": [
    "### LP Solution"
   ]
  },
  {
   "cell_type": "code",
   "execution_count": 10,
   "metadata": {},
   "outputs": [
    {
     "name": "stdout",
     "output_type": "stream",
     "text": [
      "optimal\n"
     ]
    }
   ],
   "source": [
    "# define the optimization variable and the constraints \n",
    "V = cvx.Variable(shape=gridworld.shape) #V(s)\n",
    "\n",
    "constraints = build_contraints(gridworld,V,R,T,A,discount_factor)\n",
    "\n",
    "obj = cvx.Minimize(cvx.sum(V))\n",
    "prob = cvx.Problem(obj, constraints)\n",
    "prob.solve()\n",
    "print(prob.status)"
   ]
  },
  {
   "cell_type": "code",
   "execution_count": 11,
   "metadata": {},
   "outputs": [],
   "source": [
    "policy = value_to_policy(gridworld,V.value,A,T,R,discount_factor)"
   ]
  },
  {
   "cell_type": "markdown",
   "metadata": {},
   "source": [
    "# Solution"
   ]
  },
  {
   "cell_type": "markdown",
   "metadata": {},
   "source": [
    "##  Value Map of the Gridworld"
   ]
  },
  {
   "cell_type": "code",
   "execution_count": 12,
   "metadata": {},
   "outputs": [
    {
     "data": {
      "text/plain": [
       "<matplotlib.image.AxesImage at 0x7ff99725f290>"
      ]
     },
     "execution_count": 12,
     "metadata": {},
     "output_type": "execute_result"
    },
    {
     "data": {
      "image/png": "[encoded data removed]",
      "text/plain": [
       "<Figure size 432x288 with 1 Axes>"
      ]
     },
     "metadata": {
      "needs_background": "light"
     },
     "output_type": "display_data"
    }
   ],
   "source": [
    "plt.imshow(V.value)"
   ]
  },
  {
   "cell_type": "markdown",
   "metadata": {},
   "source": [
    "## Policy Map of the Gridworld"
   ]
  },
  {
   "cell_type": "code",
   "execution_count": 13,
   "metadata": {},
   "outputs": [
    {
     "data": {
      "text/plain": [
       "<matplotlib.image.AxesImage at 0x7ff9971da890>"
      ]
     },
     "execution_count": 13,
     "metadata": {},
     "output_type": "execute_result"
    },
    {
     "data": {
      "image/png": "[encoded data removed]",
      "text/plain": [
       "<Figure size 432x288 with 1 Axes>"
      ]
     },
     "metadata": {
      "needs_background": "light"
     },
     "output_type": "display_data"
    }
   ],
   "source": [
    "plt.imshow(policy)"
   ]
  },
  {
   "cell_type": "markdown",
   "metadata": {},
   "source": [
    " # References: \n",
    "\n",
    "[1] https://people.eecs.berkeley.edu/~pabbeel/cs287-fa19/slides/Lec2-mdps-exact-methods.pdf\n",
    "\n",
    "[2] https://ai.stackexchange.com/questions/11246/how-can-we-use-linear-programming-to-solve-an-mdp\n",
    "\n",
    "[3] http://www.cs.cmu.edu/afs/cs/academic/class/15780-s16/www/slides/mdps.pdf"
   ]
  },
  {
   "cell_type": "code",
   "execution_count": null,
   "metadata": {},
   "outputs": [],
   "source": []
  },
  {
   "cell_type": "code",
   "execution_count": null,
   "metadata": {},
   "outputs": [],
   "source": []
  }
 ],
 "metadata": {
  "kernelspec": {
   "display_name": "Python 3",
   "language": "python",
   "name": "python3"
  },
  "language_info": {
   "codemirror_mode": {
    "name": "ipython",
    "version": 3
   },
   "file_extension": ".py",
   "mimetype": "text/x-python",
   "name": "python",
   "nbconvert_exporter": "python",
   "pygments_lexer": "ipython3",
   "version": "3.7.10"
  }
 },
 "nbformat": 4,
 "nbformat_minor": 4
}
