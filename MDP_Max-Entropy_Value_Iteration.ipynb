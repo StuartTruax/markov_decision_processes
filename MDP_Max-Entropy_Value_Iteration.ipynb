{
 "cells": [
  {
   "cell_type": "markdown",
   "metadata": {},
   "source": [
    "# Markov Decision Processes: Solution by Value Iteration with Maximum Entropy"
   ]
  },
  {
   "cell_type": "markdown",
   "metadata": {},
   "source": [
    "\n",
    "Value iteration is an __exact__ solution method to a Markov decision process.  It has convergence gaurantees, and produces the optimal __value function__ $V$. Here, value iteration is extended with a __maximum entropy__ regularization, which seeks to make the policy as non-deterministic as possible by considering the policy as a probability distribution and maximizing its entropy. The policy solution thus becomes in-exact. \n",
    "\n",
    "\n",
    "A Markov decision process is defined by:\n",
    "\n",
    "\n",
    "+ $S$ : a set of states \n",
    "+ $A$ : a set of actions \n",
    "+ $H$ : a finite time horizon $i=1, ..., H$ \n",
    "+ $T$ : $S \\times A \\times S \\times \\{1,...,H\\} \\rightarrow [0,1]$ a transition probability function $P(s_{t+1} = s' | s_t = s, a_t = a)$\n",
    "+ $R$ : $S \\times A \\times S \\times \\{1,...,H\\} \\rightarrow \\mathbb{R}$ a reward function $R(s,a,s')$\n",
    "\n",
    "+ $\\gamma$: a discount factor. \n",
    "\n",
    "The desired result is an optimal policy $\\pi^{*}: S \\times \\{0,...,H\\} \\rightarrow A$ which describes the optimal action $a^{*}$to be undertaken for each state $s$. \n",
    "\n",
    "Alternatively, to find $\\pi$ such that the expected discounted rewards are maximized:\n",
    "\n",
    "$$ \\text{max}_{\\pi} E[\\sum_{t=0}^{H}\\gamma^{t} R(s_{t},a_t,s_{t+1})| \\pi]$$\n",
    "\n",
    "Under the _maxmimum entropy_ formalism, the optimal corresponds to the maximum expected reward _regularized by the entropy of the policy distribution for a given state_:\n",
    "\n",
    "$$ \\text{max}_{\\pi} E[\\sum_{t=0}^{H} r_t + \\beta\\mathcal{H}(\\pi(\\cdot | s_t))]$$\n",
    "\n",
    "\n",
    "Through a derivation similar to the constrained optimization derivation of the Boltzmann distribution in statistical mechanics, the maximum entropy formalism can be applied to value iteration.\n",
    "\n",
    "### Value Iteration Algorithm with Maximum Entropy\n",
    "\n",
    "Note that in value iteration with maxmimum entropy, the policy $\\pi_(a|s)$ is a _distribution_ over actions in a given state. \n",
    "\n",
    "Here, the partition function $Z=Z(s)$ is given by:\n",
    "\n",
    "$$ Z(s) = \\sum_{a} exp \\left( \\frac{1}{\\beta}r(s,a) \\right) $$\n",
    "\n",
    "\n",
    "1. Start with $V^{*} = 0$ for all $s$:\n",
    "2. For i = 1, ..., H: \n",
    "    2. For all states $s$ in $S$:\n",
    "    \n",
    "    $Q_{i+1}(s,a) \\leftarrow E\\left [ r(s,a) + V_{i}(s') \\right]$\n",
    "    \n",
    "    $V_{i+1}(s) \\leftarrow \\beta \\text{log} \\sum_{a} exp(\\frac{1}{\\beta} Q_{i+1}(s,a))$\n",
    "    \n",
    "    $\\pi_{i+1}(a|s) \\leftarrow \\frac{1}{Z} exp \\left( \\frac{1}{\\beta} Q_{k}(s,a)  \\right)$\n",
    "3. Return $\\pi_{H}$\n",
    "    \n",
    "   \n",
    "\n",
    "\n"
   ]
  },
  {
   "cell_type": "markdown",
   "metadata": {},
   "source": [
    "## Imports"
   ]
  },
  {
   "cell_type": "code",
   "execution_count": 1,
   "metadata": {},
   "outputs": [],
   "source": [
    "import pandas as pd\n",
    "import numpy as np\n",
    "import scipy as sp\n",
    "import matplotlib.pyplot as plt\n",
    "import datetime\n",
    "import os\n",
    "from dateutil import relativedelta\n",
    "\n",
    "from matplotlib import cm\n",
    "from mpl_toolkits.mplot3d import axes3d\n",
    "\n",
    "import scipy.stats as stats\n",
    "\n",
    "import cvxpy as cvx\n",
    "\n",
    "import warnings\n",
    "warnings.filterwarnings('ignore')"
   ]
  },
  {
   "cell_type": "markdown",
   "metadata": {},
   "source": [
    "## Data Transformation Functions"
   ]
  },
  {
   "cell_type": "code",
   "execution_count": 2,
   "metadata": {},
   "outputs": [],
   "source": [
    "def gridworld_to_T(gridworld,A):\n",
    "    # Returns the transition probability function\n",
    "    \n",
    "    # the set of actions (up, down, left, right)\n",
    "    # p_intended = P(s_t+1 = s' | a_t is towards s')\n",
    "    # p_unintended = uniform over all possible remaining target states \n",
    "    # nans are walls, boundaries are absolute\n",
    "    # actions into walls or boundaries will \"bounce\" into other states with uniform probability\n",
    "    \n",
    "    \n",
    "    T = np.zeros(tuple(list(gridworld.shape) + [A.shape[0]] + list(gridworld.shape)) )\n",
    "    \n",
    "    p_intended = 0.8\n",
    "    \n",
    "    for idx in range(gridworld.shape[0]):\n",
    "        for jdx in range(gridworld.shape[1]):\n",
    "            \n",
    "            possible_actions = [True, True, True, True]\n",
    "            num_possible_actions = len(possible_actions)\n",
    "            \n",
    "            #check for walls here \n",
    "            if np.isnan(gridworld[idx][jdx]):\n",
    "                continue\n",
    "                \n",
    "            \n",
    "            #determine possible actions for position, taking into account sinks and boundaries \n",
    "            for adx,action in enumerate(A):\n",
    "                if not 0<=idx + action[0] < gridworld.shape[0]:\n",
    "                    possible_actions[adx] = False \n",
    "                    num_possible_actions-=1\n",
    "                    continue\n",
    "                if not 0<=jdx + action[1] < gridworld.shape[1]:\n",
    "                    possible_actions[adx] = False \n",
    "                    num_possible_actions-=1\n",
    "                    continue \n",
    "                if np.isnan(gridworld[idx+action[0]][jdx+action[1]]):\n",
    "                    possible_actions[adx] = False \n",
    "                    num_possible_actions-=1\n",
    "                    \n",
    "            #at this point we have the possible actions \n",
    "            #now we must determine if an intended action is possible\n",
    "            # and how to distribute the probabilities\n",
    "            \n",
    "            #outer loop is intended action\n",
    "            for adx,action in enumerate(A):\n",
    "                \n",
    "                #intended action is possible\n",
    "                if possible_actions[adx]:\n",
    "                    \n",
    "                    T[idx][jdx][adx][idx+action[0]][jdx+action[1]] = p_intended\n",
    "                    \n",
    "                    #fill in remaining actions\n",
    "                    for bdx,bction in enumerate(A):\n",
    "                        if bdx != adx and possible_actions[bdx]:\n",
    "                            T[idx][jdx][adx][idx+bction[0]][jdx+bction[1]] = \\\n",
    "                            (1.0-p_intended)/(num_possible_actions-1)\n",
    "                    \n",
    "                #intended action is not possible, uniform assignment to remaining actions\n",
    "                elif not possible_actions[adx]:\n",
    "                    #fill in remaining actions \n",
    "                    for bdx,bction in enumerate(A):\n",
    "                        if bdx != adx and possible_actions[bdx]:\n",
    "                            T[idx][jdx][adx][idx+bction[0]][jdx+bction[1]] = (1.0)/float((num_possible_actions))   \n",
    "         \n",
    "    \n",
    "                        \n",
    "    return T"
   ]
  },
  {
   "cell_type": "code",
   "execution_count": 3,
   "metadata": {},
   "outputs": [],
   "source": [
    "def gridworld_to_R(gridworld,A):\n",
    "    # Returns the reward function\n",
    "    \n",
    "    # the set of actions (up, down, left, right)\n",
    "    # rewards of target states are taken directly from the gridworld\n",
    "    # nans/walls remain as zero \n",
    "      \n",
    "    \n",
    "    R = np.zeros(tuple(list(gridworld.shape) + [A.shape[0]] + list(gridworld.shape)) )\n",
    "        \n",
    "    \n",
    "    for idx in range(gridworld.shape[0]):\n",
    "        for jdx in range(gridworld.shape[1]):\n",
    "            \n",
    "            possible_actions = [True, True, True, True]\n",
    "            \n",
    "            #determine possible actions for position, taking into account walls and boundaries \n",
    "            for adx,action in enumerate(A):\n",
    "                if not 0<=idx + action[0] < gridworld.shape[0]:\n",
    "                    possible_actions[adx] = False \n",
    "                    continue\n",
    "                if not 0<=jdx + action[1] < gridworld.shape[1]:\n",
    "                    possible_actions[adx] = False \n",
    "                    continue \n",
    "                if np.isnan(gridworld[idx+action[0]][jdx+action[1]]):\n",
    "                    possible_actions[adx] = False \n",
    "                    \n",
    "            #at this point we have the possible actions \n",
    "            #now we must determine if an intended action is possible\n",
    "            # and assign the rewards\n",
    "            \n",
    "            #outer loop is intended action\n",
    "            for adx,action in enumerate(A):\n",
    "                \n",
    "                #intended action is possible\n",
    "                if possible_actions[adx]:\n",
    "                    R[idx][jdx][adx][idx+action[0]][jdx+action[1]] = gridworld[idx+action[0]][jdx+action[1]]\n",
    "       \n",
    "    return R\n",
    "    "
   ]
  },
  {
   "cell_type": "markdown",
   "metadata": {},
   "source": [
    "## Data"
   ]
  },
  {
   "cell_type": "code",
   "execution_count": 4,
   "metadata": {},
   "outputs": [],
   "source": [
    "gridworld = np.zeros((9,9))   #rewards are floats, walls/sinks are nans, boundaries are absolute\n",
    "gridworld[0][8] = 10 \n",
    "gridworld[8][8] = 10 \n",
    "gridworld[8][7] = -10\n",
    "gridworld[4][4] = np.nan\n",
    "\n",
    "\n",
    "\n",
    "#MDP data structures\n",
    "A = np.array([[-1,0],[1,0],[0,-1], [0,1]]) # the set of actions (up, down, left, right)\n",
    "T =  gridworld_to_T(gridworld,A)    # transition probablities T: SxAxS\n",
    "R =  gridworld_to_R(gridworld,A)    # rewards for each state R: SxAxS\n",
    "\n",
    "beta = 10  # Boltzmann heat bath energy \n",
    "discount_factor = 0.1  # discount factor gamma\n",
    "\n",
    "V = np.zeros(gridworld.shape) # initialized value function\n"
   ]
  },
  {
   "cell_type": "markdown",
   "metadata": {},
   "source": [
    "## Gridworld \n",
    "\n",
    "`nans` are impassable. The boundaries of the gridworld behave like walls."
   ]
  },
  {
   "cell_type": "code",
   "execution_count": 5,
   "metadata": {},
   "outputs": [
    {
     "data": {
      "text/plain": [
       "<matplotlib.colorbar.Colorbar at 0x7f82c75bc2d0>"
      ]
     },
     "execution_count": 5,
     "metadata": {},
     "output_type": "execute_result"
    },
    {
     "data": {
      "image/png": "[encoded data removed]",
      "text/plain": [
       "<Figure size 432x288 with 2 Axes>"
      ]
     },
     "metadata": {
      "needs_background": "light"
     },
     "output_type": "display_data"
    }
   ],
   "source": [
    "plt.imshow(gridworld, cmap=\"viridis\")\n",
    "plt.title(\"Gridworld\")\n",
    "plt.colorbar()"
   ]
  },
  {
   "cell_type": "markdown",
   "metadata": {},
   "source": [
    "###  Probe of Transition Probabilities "
   ]
  },
  {
   "cell_type": "code",
   "execution_count": 6,
   "metadata": {},
   "outputs": [
    {
     "data": {
      "text/plain": [
       "<matplotlib.colorbar.Colorbar at 0x7f82c7799990>"
      ]
     },
     "execution_count": 6,
     "metadata": {},
     "output_type": "execute_result"
    },
    {
     "data": {
      "image/png": "[encoded data removed]",
      "text/plain": [
       "<Figure size 432x288 with 2 Axes>"
      ]
     },
     "metadata": {
      "needs_background": "light"
     },
     "output_type": "display_data"
    }
   ],
   "source": [
    "plt.imshow(T[4][5][2][:][:], cmap=\"viridis\")\n",
    "plt.title(\"Transitions probabilities for an example state-action tuple\")\n",
    "plt.colorbar()\n"
   ]
  },
  {
   "cell_type": "markdown",
   "metadata": {},
   "source": [
    "### Probe of Reward Function"
   ]
  },
  {
   "cell_type": "code",
   "execution_count": 7,
   "metadata": {},
   "outputs": [
    {
     "data": {
      "text/plain": [
       "<matplotlib.colorbar.Colorbar at 0x7f82c797aad0>"
      ]
     },
     "execution_count": 7,
     "metadata": {},
     "output_type": "execute_result"
    },
    {
     "data": {
      "image/png": "[encoded data removed]",
      "text/plain": [
       "<Figure size 432x288 with 2 Axes>"
      ]
     },
     "metadata": {
      "needs_background": "light"
     },
     "output_type": "display_data"
    }
   ],
   "source": [
    "plt.imshow(R[8][7][3][:][:],cmap=\"viridis\")\n",
    "plt.title(\"Reward function for an example state-action tuple\")\n",
    "plt.colorbar()"
   ]
  },
  {
   "cell_type": "markdown",
   "metadata": {},
   "source": [
    "# Value Iteration Algorithm with Maximum Entropy "
   ]
  },
  {
   "cell_type": "code",
   "execution_count": 8,
   "metadata": {},
   "outputs": [],
   "source": [
    "def policy_distribution_to_policy(policy_distribution):\n",
    "    \n",
    "    policy = np.empty(policy_distribution.shape[:2])\n",
    "    \n",
    "    for idx in range(policy_distribution.shape[0]):\n",
    "        for jdx in range(policy_distribution.shape[1]):\n",
    "            policy[idx][jdx] = np.argmax(policy_distribution[idx][jdx][:])\n",
    "                      \n",
    "    return policy\n",
    "    "
   ]
  },
  {
   "cell_type": "code",
   "execution_count": 9,
   "metadata": {},
   "outputs": [],
   "source": [
    "def value_iteration_max_ent(S,T,R,A,V,beta,discount_factor,num_iterations):\n",
    "    \n",
    "    #initialize the policy distribution\n",
    "    #as a tensor of shape (S 0th dimension, S 1st dimension, num_actions)\n",
    "    policy_distribution = np.zeros(tuple(list(S.shape)+list([A.shape[0]])))\n",
    "    \n",
    "    #initialize the Q function\n",
    "    #as a tensor of shape (S 0th dimension, S 1st dimension, num_actions)\n",
    "    Q = np.zeros(tuple(list(S.shape)+list([A.shape[0]])))\n",
    "    \n",
    "    \n",
    "    \n",
    "    #initialize the partition function Z  \n",
    "    ############ \n",
    "    # for the current state\n",
    "    #\\sum_{a} exp \\left( \\frac{1}{\\beta}r(s,a) \\right)\n",
    "                \n",
    "    Z = np.zeros(S.shape)\n",
    "    Z_tot = 0\n",
    "    \n",
    "    \n",
    "    for idx in range(S.shape[0]):\n",
    "        for jdx in range(S.shape[1]):\n",
    "          \n",
    "            #iterate over actions\n",
    "            for adx,action in enumerate(A):\n",
    "                if idx+action[0] < 0 or idx+action[0] >= S.shape[0]:\n",
    "                    continue \n",
    "                if jdx+action[0] < 0 or jdx+action[1] >= S.shape[1]:\n",
    "                        continue\n",
    "                        \n",
    "                        \n",
    "                #iterate over target states accessible via the actions\n",
    "                # (including unintended states due to transition probabilities)\n",
    "                for bction in A:\n",
    "                        if idx+bction[0] < 0 or idx+bction[0] >= S.shape[0]:\n",
    "                            continue \n",
    "                        if jdx+bction[0] < 0 or jdx+bction[1] >= S.shape[1]:\n",
    "                            continue                       \n",
    "                        \n",
    "                        Z[idx][jdx] += np.exp((1.0/beta)*R[idx][jdx][adx][idx+bction[0]][jdx + bction[1]])\n",
    "                        \n",
    "                        Z_tot += np.exp((1.0/beta)*R[idx][jdx][adx][idx+bction[0]][jdx + bction[1]])\n",
    "                            \n",
    "    \n",
    "    ########## main algorithm\n",
    "    \n",
    "    for hdx in range(num_iterations):\n",
    "        \n",
    "        #initialize next values\n",
    "        V_next = np.zeros(V.shape)\n",
    "        policy_next = np.zeros(policy_distribution.shape)\n",
    "        \n",
    "        #for all states\n",
    "        for idx in range(S.shape[0]):\n",
    "            for jdx in range(S.shape[1]):\n",
    "                \n",
    "                \n",
    "                ###############  update the Q function \n",
    "                #E \\left [ r(s,a) + V_{i}(s') \\right] = E[r(s,a)] + E[V_{i}(s')]\n",
    "                \n",
    "                \n",
    "                #iterate over actions\n",
    "                for adx,action in enumerate(A):\n",
    "                    if idx+action[0] < 0 or idx+action[0] >= S.shape[0]:\n",
    "                        continue \n",
    "                    if jdx+action[0] < 0 or jdx+action[1] >= S.shape[1]:\n",
    "                        continue \n",
    "                        \n",
    "                    Q[idx][jdx][adx] = 0\n",
    "                    \n",
    "                    maxQ = float(-np.inf)\n",
    "                    \n",
    "                    num_transitions =0\n",
    "                        \n",
    "                    #iterate over target states accessible via the actions\n",
    "                    # (including unintended states due to transition probabilities)\n",
    "                    for bction in A:\n",
    "                        if idx+bction[0] < 0 or idx+bction[0] >= S.shape[0]:\n",
    "                            continue \n",
    "                        if jdx+bction[0] < 0 or jdx+bction[1] >= S.shape[1]:\n",
    "                            continue \n",
    "                        \n",
    "                        Q[idx][jdx][adx] += (T[idx][jdx][adx][idx+bction[0]][jdx + bction[1]])*\\\n",
    "                                             (R[idx][jdx][adx][idx+bction[0]][jdx + bction[1]] + \\\n",
    "                                              discount_factor*V[idx+bction[0]][jdx + bction[1]])\n",
    "                        \n",
    "                        maxQ = max(maxQ,Q[idx][jdx][adx])\n",
    "                        \n",
    "                        \n",
    "                    \n",
    "                ############ update the V function\n",
    "                # for the current state\n",
    "                # \\beta \\text{log} \\sum_{a} exp(\\frac{1}{\\beta} Q_{i+1}(s,a))\n",
    "                \n",
    "                V_sum = 0\n",
    "                \n",
    "                #iterate over actions\n",
    "                for adx,action in enumerate(A):\n",
    "                    if idx+action[0] < 0 or idx+action[0] >= S.shape[0]:\n",
    "                        continue \n",
    "                    if jdx+action[0] < 0 or jdx+action[1] >= S.shape[1]:\n",
    "                        continue\n",
    "                        \n",
    "                    V_sum+=  np.exp((1.0/beta)*(Q[idx][idx][adx]-maxQ))\n",
    "                    \n",
    "                V_next[idx][jdx] = beta*np.log(V_sum) + maxQ\n",
    "                \n",
    "                \n",
    "                \n",
    "                ############ update the policy distribution\n",
    "                # for the current state\n",
    "                # \\frac{1}{Z} exp \\left( \\frac{1}{\\beta} Q_{k}(s,a)  \\right)\n",
    "                \n",
    "                #iterate over actions\n",
    "                for adx,action in enumerate(A):\n",
    "                    if idx+action[0] < 0 or idx+action[0] >= S.shape[0]:\n",
    "                        continue \n",
    "                    if jdx+action[0] < 0 or jdx+action[1] >= S.shape[1]:\n",
    "                        continue \n",
    "                            \n",
    "                    policy_next[idx][jdx][adx] = (1.0/Z[idx][jdx])* np.exp((1.0/beta)*(Q[idx][jdx][adx]- maxQ))\n",
    "                    \n",
    "                normalization = np.sum(policy_next[idx][jdx][:])\n",
    "                    \n",
    "                policy_next[idx][jdx][:]/=normalization \n",
    "                \n",
    "                  \n",
    "        V = V_next \n",
    "        policy_distribution = policy_next\n",
    "        \n",
    "        \n",
    "                \n",
    "    return policy_distribution_to_policy(policy_distribution), V"
   ]
  },
  {
   "cell_type": "code",
   "execution_count": 10,
   "metadata": {},
   "outputs": [],
   "source": [
    "policy, V_out = value_iteration_max_ent(gridworld,T,R,A,V,beta,discount_factor,1000)"
   ]
  },
  {
   "cell_type": "markdown",
   "metadata": {},
   "source": [
    "# Solution"
   ]
  },
  {
   "cell_type": "markdown",
   "metadata": {},
   "source": [
    "##  Value Map of the Gridworld"
   ]
  },
  {
   "cell_type": "code",
   "execution_count": 11,
   "metadata": {},
   "outputs": [
    {
     "data": {
      "text/plain": [
       "<matplotlib.image.AxesImage at 0x7f82c7b3a910>"
      ]
     },
     "execution_count": 11,
     "metadata": {},
     "output_type": "execute_result"
    },
    {
     "data": {
      "image/png": "[encoded data removed]",
      "text/plain": [
       "<Figure size 432x288 with 1 Axes>"
      ]
     },
     "metadata": {
      "needs_background": "light"
     },
     "output_type": "display_data"
    }
   ],
   "source": [
    "plt.imshow(V_out)"
   ]
  },
  {
   "cell_type": "markdown",
   "metadata": {},
   "source": [
    "## Policy Map of the Gridworld"
   ]
  },
  {
   "cell_type": "code",
   "execution_count": 12,
   "metadata": {},
   "outputs": [
    {
     "data": {
      "text/plain": [
       "<matplotlib.image.AxesImage at 0x7f82c7897d10>"
      ]
     },
     "execution_count": 12,
     "metadata": {},
     "output_type": "execute_result"
    },
    {
     "data": {
      "image/png": "[encoded data removed]",
      "text/plain": [
       "<Figure size 432x288 with 1 Axes>"
      ]
     },
     "metadata": {
      "needs_background": "light"
     },
     "output_type": "display_data"
    }
   ],
   "source": [
    "plt.imshow(policy)"
   ]
  },
  {
   "cell_type": "markdown",
   "metadata": {},
   "source": [
    "# References\n",
    "\n",
    "[1] https://people.eecs.berkeley.edu/~pabbeel/cs287-fa19/slides/Lec2-mdps-exact-methods.pdf\n",
    "\n",
    "[2] https://www.andrew.cmu.edu/course/10-403/slides/S19maxentRL.pdf\n",
    "\n",
    "[3] https://github.com/ordicker/cs287/blob/master/cs287hw1/cs287-hw1-code/part1/tabular_value_iteration.py\n",
    "\n",
    "[4] https://julien-vitay.net/deeprl/EntropyRL.html"
   ]
  },
  {
   "cell_type": "code",
   "execution_count": null,
   "metadata": {},
   "outputs": [],
   "source": []
  },
  {
   "cell_type": "code",
   "execution_count": null,
   "metadata": {},
   "outputs": [],
   "source": []
  }
 ],
 "metadata": {
  "kernelspec": {
   "display_name": "Python 3",
   "language": "python",
   "name": "python3"
  },
  "language_info": {
   "codemirror_mode": {
    "name": "ipython",
    "version": 3
   },
   "file_extension": ".py",
   "mimetype": "text/x-python",
   "name": "python",
   "nbconvert_exporter": "python",
   "pygments_lexer": "ipython3",
   "version": "3.7.10"
  }
 },
 "nbformat": 4,
 "nbformat_minor": 4
}
