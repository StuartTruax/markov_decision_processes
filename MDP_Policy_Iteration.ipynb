{
 "cells": [
  {
   "cell_type": "markdown",
   "metadata": {},
   "source": [
    "# Markov Decision Processes: Solution by Policy Iteration"
   ]
  },
  {
   "cell_type": "markdown",
   "metadata": {},
   "source": [
    "\n",
    "Policy iteration, like value iteration, is an __exact__ solution method to a Markov decision process. Also like value iteration, it has convergence gaurantees. It always produces the __optimal policy__ $\\pi$ . However, policy iteration  has faster convergence under certain conditions. \n",
    "\n",
    "A Markov decision process is defined by:\n",
    "\n",
    "\n",
    "+ $S$ : a set of states \n",
    "+ $A$ : a set of actions \n",
    "+ $H$ : a finite time horizon $i=1, ..., H$ \n",
    "+ $T$ : $S \\times A \\times S \\times \\{1,...,H\\} \\rightarrow [0,1]$ a transition probability function $P(s_{t+1} = s' | s_t = s, a_t = a)$\n",
    "+ $R$ : $S \\times A \\times S \\times \\{1,...,H\\} \\rightarrow \\mathbb{R}$ a reward function $R(s,a,s')$\n",
    "\n",
    "+ $\\gamma$: a discount factor. \n",
    "\n",
    "The desired result is an optimal policy $\\pi^{*}: S \\times \\{0,...,H\\} \\rightarrow A$ which describes the optimal action $a^{*}$to be undertaken for each state $s$. \n",
    "\n",
    "Alternatively, to find $\\pi$ such that:\n",
    "\n",
    "$$ \\text{max}_{\\pi} E[\\sum_{t=0}^{H}\\gamma^{t} R(s_{t},a_t,s_{t+1})| \\pi]$$\n",
    "\n",
    "### Policy Iteration Algorithm\n",
    "\n",
    "1. Start with $V^{*} = 0$ for all $s$:\n",
    "\n",
    "2. For all states $s$ in $S$:\n",
    "        \n",
    "    $V^{\\pi_k}_{i+1}(s) \\leftarrow \\sum_{a'}T(s,\\pi_{k}(s),s')[R(s,\\pi_{k}(s),s') + \\gamma V^{*}_{i}(s')]$\n",
    "    \n",
    "    until convergence of V\n",
    "    \n",
    "    \n",
    "3. $\\pi_{k+1}(s) \\leftarrow \\text{argmax}_a \\sum_{a'}T(s,a,s')[R(s,a,s') + \\gamma V^{\\pi_k}(s')]$\n",
    "\n",
    "    If $\\pi$ not converged, return to 2.\n",
    "    \n",
    "4. Return $\\pi^{*}_{H}$\n",
    "    \n",
    "   \n",
    "\n",
    "\n"
   ]
  },
  {
   "cell_type": "markdown",
   "metadata": {},
   "source": [
    "## Imports"
   ]
  },
  {
   "cell_type": "code",
   "execution_count": 1,
   "metadata": {},
   "outputs": [],
   "source": [
    "import pandas as pd\n",
    "import numpy as np\n",
    "import scipy as sp\n",
    "import matplotlib.pyplot as plt\n",
    "import datetime\n",
    "import os\n",
    "from dateutil import relativedelta\n",
    "\n",
    "from matplotlib import cm\n",
    "from mpl_toolkits.mplot3d import axes3d\n",
    "\n",
    "import scipy.stats as stats\n",
    "\n",
    "import cvxpy as cvx\n",
    "\n",
    "import warnings\n",
    "warnings.filterwarnings('ignore')"
   ]
  },
  {
   "cell_type": "markdown",
   "metadata": {},
   "source": [
    "## Data Transformation Functions"
   ]
  },
  {
   "cell_type": "code",
   "execution_count": 2,
   "metadata": {},
   "outputs": [],
   "source": [
    "def gridworld_to_T(gridworld,A):\n",
    "    # Returns the transition probability function\n",
    "    \n",
    "    # the set of actions (up, down, left, right)\n",
    "    # p_intended = P(s_t+1 = s' | a_t is towards s')\n",
    "    # p_unintended = uniform over all possible remaining target states \n",
    "    # nans are walls, boundaries are absolute\n",
    "    # actions into walls or boundaries will \"bounce\" into other states with uniform probability\n",
    "    \n",
    "    \n",
    "    T = np.zeros(tuple(list(gridworld.shape) + [A.shape[0]] + list(gridworld.shape)) )\n",
    "    \n",
    "    p_intended = 0.8\n",
    "    \n",
    "    for idx in range(gridworld.shape[0]):\n",
    "        for jdx in range(gridworld.shape[1]):\n",
    "            \n",
    "            possible_actions = [True, True, True, True]\n",
    "            num_possible_actions = len(possible_actions)\n",
    "            \n",
    "            #check for walls here \n",
    "            if np.isnan(gridworld[idx][jdx]):\n",
    "                continue\n",
    "                \n",
    "            \n",
    "            #determine possible actions for position, taking into account sinks and boundaries \n",
    "            for adx,action in enumerate(A):\n",
    "                if not 0<=idx + action[0] < gridworld.shape[0]:\n",
    "                    possible_actions[adx] = False \n",
    "                    num_possible_actions-=1\n",
    "                    continue\n",
    "                if not 0<=jdx + action[1] < gridworld.shape[1]:\n",
    "                    possible_actions[adx] = False \n",
    "                    num_possible_actions-=1\n",
    "                    continue \n",
    "                if np.isnan(gridworld[idx+action[0]][jdx+action[1]]):\n",
    "                    possible_actions[adx] = False \n",
    "                    num_possible_actions-=1\n",
    "                    \n",
    "            #at this point we have the possible actions \n",
    "            #now we must determine if an intended action is possible\n",
    "            # and how to distribute the probabilities\n",
    "            \n",
    "            #outer loop is intended action\n",
    "            for adx,action in enumerate(A):\n",
    "                \n",
    "                #intended action is possible\n",
    "                if possible_actions[adx]:\n",
    "                    \n",
    "                    T[idx][jdx][adx][idx+action[0]][jdx+action[1]] = p_intended\n",
    "                    \n",
    "                    #fill in remaining actions\n",
    "                    for bdx,bction in enumerate(A):\n",
    "                        if bdx != adx and possible_actions[bdx]:\n",
    "                            T[idx][jdx][adx][idx+bction[0]][jdx+bction[1]] = \\\n",
    "                            (1.0-p_intended)/(num_possible_actions-1)\n",
    "                    \n",
    "                #intended action is not possible, uniform assignment to remaining actions\n",
    "                elif not possible_actions[adx]:\n",
    "                    #fill in remaining actions \n",
    "                    for bdx,bction in enumerate(A):\n",
    "                        if bdx != adx and possible_actions[bdx]:\n",
    "                            T[idx][jdx][adx][idx+bction[0]][jdx+bction[1]] = (1.0)/float((num_possible_actions))   \n",
    "         \n",
    "    \n",
    "                        \n",
    "    return T"
   ]
  },
  {
   "cell_type": "code",
   "execution_count": 3,
   "metadata": {},
   "outputs": [],
   "source": [
    "def gridworld_to_R(gridworld,A):\n",
    "    # Returns the reward function\n",
    "    \n",
    "    # the set of actions (up, down, left, right)\n",
    "    # rewards of target states are taken directly from the gridworld\n",
    "    # nans/walls remain as zero \n",
    "      \n",
    "    \n",
    "    R = np.zeros(tuple(list(gridworld.shape) + [A.shape[0]] + list(gridworld.shape)) )\n",
    "        \n",
    "    \n",
    "    for idx in range(gridworld.shape[0]):\n",
    "        for jdx in range(gridworld.shape[1]):\n",
    "            \n",
    "            possible_actions = [True, True, True, True]\n",
    "            \n",
    "            #determine possible actions for position, taking into account walls and boundaries \n",
    "            for adx,action in enumerate(A):\n",
    "                if not 0<=idx + action[0] < gridworld.shape[0]:\n",
    "                    possible_actions[adx] = False \n",
    "                    continue\n",
    "                if not 0<=jdx + action[1] < gridworld.shape[1]:\n",
    "                    possible_actions[adx] = False \n",
    "                    continue \n",
    "                if np.isnan(gridworld[idx+action[0]][jdx+action[1]]):\n",
    "                    possible_actions[adx] = False \n",
    "                    \n",
    "            #at this point we have the possible actions \n",
    "            #now we must determine if an intended action is possible\n",
    "            # and assign the rewards\n",
    "            \n",
    "            #outer loop is intended action\n",
    "            for adx,action in enumerate(A):\n",
    "                \n",
    "                #intended action is possible\n",
    "                if possible_actions[adx]:\n",
    "                    R[idx][jdx][adx][idx+action[0]][jdx+action[1]] = gridworld[idx+action[0]][jdx+action[1]]\n",
    "       \n",
    "    return R\n",
    "    "
   ]
  },
  {
   "cell_type": "markdown",
   "metadata": {},
   "source": [
    "## Data"
   ]
  },
  {
   "cell_type": "code",
   "execution_count": 4,
   "metadata": {},
   "outputs": [],
   "source": [
    "gridworld = np.zeros((9,9))   #rewards are floats, walls/sinks are nans, boundaries are absolute\n",
    "gridworld[0][8] = 10 \n",
    "gridworld[8][8] = 10 \n",
    "gridworld[8][7] = -10\n",
    "gridworld[4][4] = np.nan\n",
    "\n",
    "\n",
    "\n",
    "#MDP data structures\n",
    "A = np.array([[-1,0],[1,0],[0,-1], [0,1]]) # the set of actions (up, down, left, right)\n",
    "T =  gridworld_to_T(gridworld,A)    # transition probablities T: SxAxS\n",
    "R =  gridworld_to_R(gridworld,A)    # rewards for each state R: SxAxS\n",
    "\n",
    "discount_factor = 0.5  # discount factor gamma\n",
    "\n",
    "V = np.zeros(gridworld.shape) # initialized value function\n"
   ]
  },
  {
   "cell_type": "markdown",
   "metadata": {},
   "source": [
    "## Gridworld \n",
    "\n",
    "`nans` are impassable. The boundaries of the gridworld behave like walls. "
   ]
  },
  {
   "cell_type": "code",
   "execution_count": 5,
   "metadata": {},
   "outputs": [
    {
     "data": {
      "text/plain": [
       "<matplotlib.colorbar.Colorbar at 0x7fe824643050>"
      ]
     },
     "execution_count": 5,
     "metadata": {},
     "output_type": "execute_result"
    },
    {
     "data": {
      "image/png": "[encoded data removed]",
      "text/plain": [
       "<Figure size 432x288 with 2 Axes>"
      ]
     },
     "metadata": {
      "needs_background": "light"
     },
     "output_type": "display_data"
    }
   ],
   "source": [
    "plt.imshow(gridworld, cmap=\"viridis\")\n",
    "plt.title(\"Gridworld\")\n",
    "plt.colorbar()"
   ]
  },
  {
   "cell_type": "markdown",
   "metadata": {},
   "source": [
    "###  Probe of Transition Probabilities "
   ]
  },
  {
   "cell_type": "code",
   "execution_count": 6,
   "metadata": {},
   "outputs": [
    {
     "data": {
      "text/plain": [
       "<matplotlib.colorbar.Colorbar at 0x7fe8248cdf90>"
      ]
     },
     "execution_count": 6,
     "metadata": {},
     "output_type": "execute_result"
    },
    {
     "data": {
      "image/png": "[encoded data removed]",
      "text/plain": [
       "<Figure size 432x288 with 2 Axes>"
      ]
     },
     "metadata": {
      "needs_background": "light"
     },
     "output_type": "display_data"
    }
   ],
   "source": [
    "plt.imshow(T[4][5][2][:][:], cmap=\"viridis\")\n",
    "plt.title(\"Transitions probabilities for an example state-action tuple\")\n",
    "plt.colorbar()\n"
   ]
  },
  {
   "cell_type": "markdown",
   "metadata": {},
   "source": [
    "### Probe of Reward Function"
   ]
  },
  {
   "cell_type": "code",
   "execution_count": 7,
   "metadata": {},
   "outputs": [
    {
     "data": {
      "text/plain": [
       "<matplotlib.colorbar.Colorbar at 0x7fe824a71650>"
      ]
     },
     "execution_count": 7,
     "metadata": {},
     "output_type": "execute_result"
    },
    {
     "data": {
      "image/png": "[encoded data removed]",
      "text/plain": [
       "<Figure size 432x288 with 2 Axes>"
      ]
     },
     "metadata": {
      "needs_background": "light"
     },
     "output_type": "display_data"
    }
   ],
   "source": [
    "plt.imshow(R[8][7][3][:][:],cmap=\"viridis\")\n",
    "plt.title(\"Reward function for an example state-action tuple\")\n",
    "plt.colorbar()"
   ]
  },
  {
   "cell_type": "markdown",
   "metadata": {},
   "source": [
    "# Policy Iteration Algorithm"
   ]
  },
  {
   "cell_type": "code",
   "execution_count": 8,
   "metadata": {},
   "outputs": [],
   "source": [
    "def policy_iteration(S,T,R,A,V,gamma, threshold):\n",
    "    #initialize the policy\n",
    "    policy = np.zeros(S.shape, dtype=int)\n",
    "    \n",
    "    #main loop\n",
    "    while True:\n",
    "        \n",
    "        #policy evaluation: for each state, converge the value function\n",
    "        \n",
    "        delta = 0.0 #convergence delta\n",
    "           \n",
    "        while True:\n",
    "            for idx in range(S.shape[0]):\n",
    "                for jdx in range(S.shape[1]):\n",
    "                \n",
    "                    V_cur = 0\n",
    "                    for adx,action in enumerate(A):\n",
    "                        if idx+action[0] < 0 or idx+action[0] >= S.shape[0]:\n",
    "                            continue \n",
    "                        if jdx+action[0] < 0 or jdx+action[1] >= S.shape[1]:\n",
    "                            continue \n",
    "                            \n",
    "                        V_cur += (T[idx][jdx][policy[idx][jdx]][idx+action[0]][jdx + action[1]])*\\\n",
    "                                (R[idx][jdx][policy[idx][jdx]][idx+action[0]][jdx + action[1]] + \\\n",
    "                                 gamma*V[idx+action[0]][jdx + action[1]])\n",
    "                      \n",
    "                    \n",
    "                    delta = max(delta, np.abs(V[idx][jdx]-V_cur))\n",
    "                                \n",
    "                    V[idx][jdx] = V_cur \n",
    "            #print(delta)\n",
    "                                \n",
    "            if delta <= threshold:\n",
    "                break \n",
    "            \n",
    "        #policy improvement: find the optimizing local policy according to the updated value function\n",
    "        policy_stable = True\n",
    "        policy_next = np.zeros(S.shape, dtype = int)\n",
    "                                \n",
    "        for idx in range(S.shape[0]):\n",
    "            for jdx in range(S.shape[1]):\n",
    "                                \n",
    "                #initial optimal value and action for state\n",
    "                V_max = float(-np.inf)\n",
    "                A_max = 0\n",
    "                #iterate over actions\n",
    "                for adx,action in enumerate(A):\n",
    "                    if idx+action[0] < 0 or idx+action[0] >= S.shape[0]:\n",
    "                        continue \n",
    "                    if jdx+action[0] < 0 or jdx+action[1] >= S.shape[1]:\n",
    "                        continue \n",
    "                      \n",
    "                    V_cur = 0\n",
    "                    \n",
    "                    #iterate over target states accessible via the actions\n",
    "                    # (including unintended states due to transition probabilities)\n",
    "                    for bction in A:\n",
    "                        if idx+bction[0] < 0 or idx+bction[0] >= S.shape[0]:\n",
    "                            continue \n",
    "                        if jdx+bction[0] < 0 or jdx+bction[1] >= S.shape[1]:\n",
    "                            continue \n",
    "                        V_cur += (T[idx][jdx][adx][idx+bction[0]][jdx + bction[1]])*\\\n",
    "                            (R[idx][jdx][adx][idx+bction[0]][jdx + bction[1]] + \\\n",
    "                             gamma*V[idx+bction[0]][jdx + bction[1]]) \n",
    "                       \n",
    "                    #check for optimal value and action\n",
    "                    if V_cur >= V_max:\n",
    "                        V_max = V_cur\n",
    "                        A_max = adx\n",
    "                        \n",
    "                #update policy and Value function\n",
    "                policy_next[idx][jdx] = A_max\n",
    "                                \n",
    "                if policy_next[idx][jdx] != policy[idx][jdx]:\n",
    "                    policy_stable = False \n",
    "                                \n",
    "        policy = policy_next \n",
    "        \n",
    "                                \n",
    "        if policy_stable:\n",
    "            break \n",
    "                                \n",
    "    return policy, V"
   ]
  },
  {
   "cell_type": "code",
   "execution_count": 9,
   "metadata": {},
   "outputs": [],
   "source": [
    "policy, V = policy_iteration(gridworld,T,R,A,V,discount_factor, 10)"
   ]
  },
  {
   "cell_type": "markdown",
   "metadata": {},
   "source": [
    "# Solution"
   ]
  },
  {
   "cell_type": "markdown",
   "metadata": {},
   "source": [
    "##  Value Map of the Gridworld"
   ]
  },
  {
   "cell_type": "code",
   "execution_count": 10,
   "metadata": {},
   "outputs": [
    {
     "data": {
      "text/plain": [
       "<matplotlib.image.AxesImage at 0x7fe824b0f110>"
      ]
     },
     "execution_count": 10,
     "metadata": {},
     "output_type": "execute_result"
    },
    {
     "data": {
      "image/png": "[encoded data removed]",
      "text/plain": [
       "<Figure size 432x288 with 1 Axes>"
      ]
     },
     "metadata": {
      "needs_background": "light"
     },
     "output_type": "display_data"
    }
   ],
   "source": [
    "plt.imshow(V)"
   ]
  },
  {
   "cell_type": "markdown",
   "metadata": {},
   "source": [
    "## Policy Map of the Gridworld"
   ]
  },
  {
   "cell_type": "code",
   "execution_count": 11,
   "metadata": {},
   "outputs": [
    {
     "data": {
      "text/plain": [
       "<matplotlib.image.AxesImage at 0x7fe824d884d0>"
      ]
     },
     "execution_count": 11,
     "metadata": {},
     "output_type": "execute_result"
    },
    {
     "data": {
      "image/png": "[encoded data removed]",
      "text/plain": [
       "<Figure size 432x288 with 1 Axes>"
      ]
     },
     "metadata": {
      "needs_background": "light"
     },
     "output_type": "display_data"
    }
   ],
   "source": [
    "plt.imshow(policy)\n"
   ]
  },
  {
   "cell_type": "markdown",
   "metadata": {},
   "source": [
    "# References\n",
    "\n",
    "[1] https://www.baeldung.com/cs/ml-value-iteration-vs-policy-iterationhttps\n",
    "\n",
    "[2] https://people.eecs.berkeley.edu/~pabbeel/cs287-fa19/slides/Lec2-mdps-exact-methods.pdf"
   ]
  },
  {
   "cell_type": "code",
   "execution_count": null,
   "metadata": {},
   "outputs": [],
   "source": []
  },
  {
   "cell_type": "code",
   "execution_count": null,
   "metadata": {},
   "outputs": [],
   "source": []
  },
  {
   "cell_type": "code",
   "execution_count": null,
   "metadata": {},
   "outputs": [],
   "source": []
  },
  {
   "cell_type": "code",
   "execution_count": null,
   "metadata": {},
   "outputs": [],
   "source": []
  }
 ],
 "metadata": {
  "kernelspec": {
   "display_name": "Python 3",
   "language": "python",
   "name": "python3"
  },
  "language_info": {
   "codemirror_mode": {
    "name": "ipython",
    "version": 3
   },
   "file_extension": ".py",
   "mimetype": "text/x-python",
   "name": "python",
   "nbconvert_exporter": "python",
   "pygments_lexer": "ipython3",
   "version": "3.7.10"
  }
 },
 "nbformat": 4,
 "nbformat_minor": 4
}
